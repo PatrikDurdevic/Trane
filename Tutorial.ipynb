{
 "cells": [
  {
   "cell_type": "markdown",
   "metadata": {},
   "source": [
    "# Trane - A quick DEMO\n",
    "\n",
    "Trane is a software package for automatically generating prediction problems and generating labels for supervised learning. This tutorial shows the workflow of Trane."
   ]
  },
  {
   "cell_type": "markdown",
   "metadata": {},
   "source": [
    "### Get Example Dataset\n",
    "[Download a synthetic taxi dataset here](https://s3.amazonaws.com/hdi-demos/trane-demo/taxi_data.zip). Unzip the file and get the folder with the raw data `synthetic_taxi_data.csv` and the table metadata `taxi_meta.json`. Put the folder `taxi_data` in Trane or set the correct path in the cell below. "
   ]
  },
  {
   "cell_type": "markdown",
   "metadata": {},
   "source": [
    "### Generate Prediction Problems\n",
    "We first import trane and other packages. We set data path and other parameters. "
   ]
  },
  {
   "cell_type": "code",
   "execution_count": 1,
   "metadata": {},
   "outputs": [],
   "source": [
    "import trane\n",
    "import json\n",
    "\n",
    "multiple_csv = [\"taxi_data/synthetic_taxi_data.csv\"] # path to multiple csv tables.\n",
    "table_meta_json = \"taxi_data/taxi_meta.json\"         # path to table metadata. \n",
    "\n",
    "entity_id_column = 'taxi_id'        # Trane will generate a label of each entity in the entity_id_column.\n",
    "label_generating_column = 'fare'    # Trane will use data in label_generating_column to generate labels. \n",
    "time_column = 'trip_id'             # time_column is used for cutoff time. "
   ]
  },
  {
   "cell_type": "markdown",
   "metadata": {},
   "source": [
    "We load table metadata, then create a PredictionProblemGenerator."
   ]
  },
  {
   "cell_type": "code",
   "execution_count": 3,
   "metadata": {},
   "outputs": [],
   "source": [
    "table_meta = trane.TableMeta(json.loads(open(table_meta_json).read()))\n",
    "generator = trane.PredictionProblemGenerator(table_meta, entity_id_column, label_generating_column, time_column)\n"
   ]
  },
  {
   "cell_type": "markdown",
   "metadata": {},
   "source": [
    "We use the generator to generate 3 prediction problems. "
   ]
  },
  {
   "cell_type": "code",
   "execution_count": 4,
   "metadata": {},
   "outputs": [],
   "source": [
    "probs = []\n",
    "for idx, prob in enumerate(generator.generate()):\n",
    "    probs.append(prob)\n",
    "    if idx + 1 == 3:\n",
    "        break"
   ]
  },
  {
   "cell_type": "markdown",
   "metadata": {},
   "source": [
    "We save prediction problems in to `prediction_problems.json`"
   ]
  },
  {
   "cell_type": "code",
   "execution_count": 5,
   "metadata": {},
   "outputs": [],
   "source": [
    "prediction_problems_json = trane.prediction_problems_to_json(\n",
    "    probs, table_meta, entity_id_column, label_generating_column, time_column)\n",
    "with open(\"prediction_problems.json\", \"w\") as f:\n",
    "    json.dump(json.loads(prediction_problems_json), f, indent=4, separators=(',', ': '))"
   ]
  },
  {
   "cell_type": "markdown",
   "metadata": {},
   "source": [
    "### Check Prediction Problems and Tune HyperParameters\n",
    "Now we should check saved prediction problems and set thresholds in field `param_values` for some operations.\n",
    "\n",
    "Here is the truncated output. \n",
    "```\n",
    "{\n",
    "    \"entity_id_column\": \"taxi_id\",\n",
    "    \"time_column\": \"trip_id\",\n",
    "    \"table_meta\": ...,\n",
    "    \"prediction_problems\": [\n",
    "        {\n",
    "            \"operations\": [\n",
    "                {\n",
    "                    \"SubopType\": \"AllFilterOp\",\n",
    "                    \"OpType\": \"FilterOpBase\",\n",
    "                    \"param_values\": {},\n",
    "                    \"column_name\": \"duration\",\n",
    "                    \"iotype\": [\n",
    "                        \"value\",\n",
    "                        \"value\"\n",
    "                    ]\n",
    "                },\n",
    "                {\n",
    "                    \"SubopType\": \"IdentityRowOp\",\n",
    "                    \"OpType\": \"RowOpBase\",\n",
    "                    \"param_values\": {},\n",
    "                    \"column_name\": \"fare\",\n",
    "                    \"iotype\": [\n",
    "                        \"value\",\n",
    "                        \"value\"\n",
    "                    ]\n",
    "                },\n",
    "                {\n",
    "                    \"SubopType\": \"IdentityTransformationOp\",\n",
    "                    \"OpType\": \"TransformationOpBase\",\n",
    "                    \"param_values\": {},\n",
    "                    \"column_name\": \"fare\",\n",
    "                    \"iotype\": [\n",
    "                        \"value\",\n",
    "                        \"value\"\n",
    "                    ]\n",
    "                },\n",
    "                {\n",
    "                    \"SubopType\": \"FirstAggregationOp\",\n",
    "                    \"OpType\": \"AggregationOpBase\",\n",
    "                    \"param_values\": {},\n",
    "                    \"column_name\": \"fare\",\n",
    "                    \"iotype\": [\n",
    "                        \"value\",\n",
    "                        \"value\"\n",
    "                    ]\n",
    "                }\n",
    "            ]\n",
    "        }, ...\n",
    "    ],\n",
    "    \"label_generating_column\": \"fare\"\n",
    "}\n",
    "\n",
    "```"
   ]
  },
  {
   "cell_type": "markdown",
   "metadata": {},
   "source": [
    "### Load Problems and Generate Labels\n",
    "We load multiple csvs and denormalize them into a Pandas DataFrame. We group them by entity ids. \n",
    "We show the first 5 records of entity taxi 0."
   ]
  },
  {
   "cell_type": "code",
   "execution_count": 6,
   "metadata": {},
   "outputs": [
    {
     "data": {
      "text/html": [
       "<div>\n",
       "<style scoped>\n",
       "    .dataframe tbody tr th:only-of-type {\n",
       "        vertical-align: middle;\n",
       "    }\n",
       "\n",
       "    .dataframe tbody tr th {\n",
       "        vertical-align: top;\n",
       "    }\n",
       "\n",
       "    .dataframe thead th {\n",
       "        text-align: right;\n",
       "    }\n",
       "</style>\n",
       "<table border=\"1\" class=\"dataframe\">\n",
       "  <thead>\n",
       "    <tr style=\"text-align: right;\">\n",
       "      <th></th>\n",
       "      <th>vendor_id</th>\n",
       "      <th>taxi_id</th>\n",
       "      <th>trip_id</th>\n",
       "      <th>distance</th>\n",
       "      <th>duration</th>\n",
       "      <th>fare</th>\n",
       "      <th>num_passengers</th>\n",
       "    </tr>\n",
       "  </thead>\n",
       "  <tbody>\n",
       "    <tr>\n",
       "      <th>0</th>\n",
       "      <td>0</td>\n",
       "      <td>0</td>\n",
       "      <td>0</td>\n",
       "      <td>4.97</td>\n",
       "      <td>16.53</td>\n",
       "      <td>46.80</td>\n",
       "      <td>3</td>\n",
       "    </tr>\n",
       "    <tr>\n",
       "      <th>1</th>\n",
       "      <td>0</td>\n",
       "      <td>0</td>\n",
       "      <td>1</td>\n",
       "      <td>6.00</td>\n",
       "      <td>16.82</td>\n",
       "      <td>49.60</td>\n",
       "      <td>4</td>\n",
       "    </tr>\n",
       "    <tr>\n",
       "      <th>2</th>\n",
       "      <td>0</td>\n",
       "      <td>0</td>\n",
       "      <td>2</td>\n",
       "      <td>0.68</td>\n",
       "      <td>11.70</td>\n",
       "      <td>27.87</td>\n",
       "      <td>1</td>\n",
       "    </tr>\n",
       "    <tr>\n",
       "      <th>3</th>\n",
       "      <td>0</td>\n",
       "      <td>0</td>\n",
       "      <td>3</td>\n",
       "      <td>7.75</td>\n",
       "      <td>11.69</td>\n",
       "      <td>43.12</td>\n",
       "      <td>1</td>\n",
       "    </tr>\n",
       "    <tr>\n",
       "      <th>4</th>\n",
       "      <td>0</td>\n",
       "      <td>0</td>\n",
       "      <td>4</td>\n",
       "      <td>6.05</td>\n",
       "      <td>13.32</td>\n",
       "      <td>42.71</td>\n",
       "      <td>4</td>\n",
       "    </tr>\n",
       "  </tbody>\n",
       "</table>\n",
       "</div>"
      ],
      "text/plain": [
       "   vendor_id  taxi_id  trip_id  distance  duration   fare  num_passengers\n",
       "0          0        0        0      4.97     16.53  46.80               3\n",
       "1          0        0        1      6.00     16.82  49.60               4\n",
       "2          0        0        2      0.68     11.70  27.87               1\n",
       "3          0        0        3      7.75     11.69  43.12               1\n",
       "4          0        0        4      6.05     13.32  42.71               4"
      ]
     },
     "execution_count": 6,
     "metadata": {},
     "output_type": "execute_result"
    }
   ],
   "source": [
    "denormalized_dataframe = trane.csv_to_df(multiple_csv)\n",
    "entity_to_data_dict = trane.df_group_by_entity_id(denormalized_dataframe, entity_id_column)\n",
    "entity_to_data_dict[0].head(5)"
   ]
  },
  {
   "cell_type": "markdown",
   "metadata": {},
   "source": [
    "We apply a cutoff strategy. Here we simple use fixed cuttoff time. The cutoff time for all entities are 0."
   ]
  },
  {
   "cell_type": "code",
   "execution_count": 6,
   "metadata": {},
   "outputs": [],
   "source": [
    "entity_to_data_and_cutoff_dict = trane.FixedCutoffTimes().generate_cutoffs(entity_to_data_dict)"
   ]
  },
  {
   "cell_type": "markdown",
   "metadata": {},
   "source": [
    "Create a labeler and generate labels. "
   ]
  },
  {
   "cell_type": "code",
   "execution_count": 7,
   "metadata": {},
   "outputs": [
    {
     "data": {
      "text/plain": [
       "{0: ([49.600000000000001, 49.600000000000001, 49.600000000000001], 0),\n",
       " 1: ([20.449999999999999, 20.449999999999999, 20.449999999999999], 0),\n",
       " 2: ([61.600000000000001, 61.600000000000001, 61.600000000000001], 0),\n",
       " 3: ([58.520000000000003, 58.520000000000003, 58.520000000000003], 0),\n",
       " 4: ([42.100000000000001, 42.100000000000001, 42.100000000000001], 0),\n",
       " 5: ([58.659999999999997, 58.659999999999997, 58.659999999999997], 0),\n",
       " 6: ([34.5, 34.5, 34.5], 0),\n",
       " 7: ([34.049999999999997, 34.049999999999997, 34.049999999999997], 0),\n",
       " 8: ([54.299999999999997, 54.299999999999997, 54.299999999999997], 0),\n",
       " 9: ([44.549999999999997, 44.549999999999997, 44.549999999999997], 0),\n",
       " 10: ([62.880000000000003, 62.880000000000003, 62.880000000000003], 0),\n",
       " 11: ([30.829999999999998, 30.829999999999998, 30.829999999999998], 0),\n",
       " 12: ([29.699999999999999, 29.699999999999999, 29.699999999999999], 0),\n",
       " 13: ([50.560000000000002, 50.560000000000002, 50.560000000000002], 0),\n",
       " 14: ([43.729999999999997, 43.729999999999997, 43.729999999999997], 0),\n",
       " 15: ([29.93, 29.93, 29.93], 0),\n",
       " 16: ([43.909999999999997, 43.909999999999997, 43.909999999999997], 0),\n",
       " 17: ([34.350000000000001, 34.350000000000001, 34.350000000000001], 0),\n",
       " 18: ([63.630000000000003, 63.630000000000003, 63.630000000000003], 0),\n",
       " 19: ([51.859999999999999, 51.859999999999999, 51.859999999999999], 0),\n",
       " 20: ([55.329999999999998, 55.329999999999998, 55.329999999999998], 0),\n",
       " 21: ([59.030000000000001, 59.030000000000001, 59.030000000000001], 0),\n",
       " 22: ([53.359999999999999, 53.359999999999999, 53.359999999999999], 0),\n",
       " 23: ([38.049999999999997, 38.049999999999997, 38.049999999999997], 0),\n",
       " 24: ([42.899999999999999, 42.899999999999999, 42.899999999999999], 0),\n",
       " 25: ([27.530000000000001, 27.530000000000001, 27.530000000000001], 0),\n",
       " 26: ([42.630000000000003, 42.630000000000003, 42.630000000000003], 0),\n",
       " 27: ([62.420000000000002, 62.420000000000002, 62.420000000000002], 0),\n",
       " 28: ([38.450000000000003, 38.450000000000003, 38.450000000000003], 0),\n",
       " 29: ([60.359999999999999, 60.359999999999999, 60.359999999999999], 0),\n",
       " 30: ([50.590000000000003, 50.590000000000003, 50.590000000000003], 0),\n",
       " 31: ([49.32, 49.32, 49.32], 0),\n",
       " 32: ([41.259999999999998, 41.259999999999998, 41.259999999999998], 0),\n",
       " 33: ([37.43, 37.43, 37.43], 0),\n",
       " 34: ([36.960000000000001, 36.960000000000001, 36.960000000000001], 0),\n",
       " 35: ([44.479999999999997, 44.479999999999997, 44.479999999999997], 0),\n",
       " 36: ([49.359999999999999, 49.359999999999999, 49.359999999999999], 0),\n",
       " 37: ([31.02, 31.02, 31.02], 0),\n",
       " 38: ([37.649999999999999, 37.649999999999999, 37.649999999999999], 0),\n",
       " 39: ([42.439999999999998, 42.439999999999998, 42.439999999999998], 0)}"
      ]
     },
     "execution_count": 7,
     "metadata": {},
     "output_type": "execute_result"
    }
   ],
   "source": [
    "labeler = trane.Labeler()\n",
    "output = labeler.execute(entity_to_data_and_cutoff_dict, \"prediction_problems.json\")\n",
    "output"
   ]
  }
 ],
 "metadata": {
  "kernelspec": {
   "display_name": "Python 3",
   "language": "python",
   "name": "python3"
  },
  "language_info": {
   "codemirror_mode": {
    "name": "ipython",
    "version": 3
   },
   "file_extension": ".py",
   "mimetype": "text/x-python",
   "name": "python",
   "nbconvert_exporter": "python",
   "pygments_lexer": "ipython3",
   "version": "3.6.1"
  }
 },
 "nbformat": 4,
 "nbformat_minor": 2
}
