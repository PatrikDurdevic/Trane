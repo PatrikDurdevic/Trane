{
 "cells": [
  {
   "cell_type": "code",
   "execution_count": 1,
   "metadata": {},
   "outputs": [],
   "source": [
    "import sys\n",
    "#Path to Trane for imports\n",
    "sys.path.append('/Users/Alexander/Documents/Trane__HDI_REPO')\n",
    "import pandas as pd\n",
    "import trane\n",
    "import json"
   ]
  },
  {
   "cell_type": "code",
   "execution_count": 2,
   "metadata": {},
   "outputs": [],
   "source": [
    "def file_to_table_meta(filepath):\n",
    "    return trane.TableMeta(json.loads(open(filepath).read()))"
   ]
  },
  {
   "cell_type": "code",
   "execution_count": 3,
   "metadata": {},
   "outputs": [],
   "source": [
    "#IMPORT DATA\n",
    "taxi_data_df = pd.read_csv('NYC Taxi/taxi.csv')\n",
    "taxi_table_meta = file_to_table_meta('NYC Taxi/taxi_meta.json')\n",
    "\n",
    "yelp_review_data_df = pd.read_csv('Yelp Reviews/yelp_review_sampled.csv')\n",
    "yelp_table_meta = file_to_table_meta('Yelp Reviews/yelp_review_meta.json')\n",
    "\n",
    "github_data_df = pd.read_csv('Github/github_archive.csv')\n",
    "github_table_meta = file_to_table_meta('Github/github_meta.json')"
   ]
  },
  {
   "cell_type": "code",
   "execution_count": 4,
   "metadata": {},
   "outputs": [],
   "source": [
    "NUM_PROBLEMS_TO_GENERATE = 10"
   ]
  },
  {
   "cell_type": "code",
   "execution_count": 12,
   "metadata": {},
   "outputs": [],
   "source": [
    "def generate_probs_and_nl(entity_id_column,\n",
    "                            label_generating_column,\n",
    "                            time_column,\n",
    "                            table_meta,\n",
    "                            filter_column):\n",
    "    generator = trane.PredictionProblemGenerator(table_meta, entity_id_column, label_generating_column, time_column, filter_column)\n",
    "    probs = []\n",
    "    for idx, prob in enumerate(generator.generate()):\n",
    "        probs.append(prob)\n",
    "        if idx + 1 == NUM_PROBLEMS_TO_GENERATE:\n",
    "            break\n",
    "    prediction_problems_json = trane.prediction_problems_to_json_file(\n",
    "        probs, table_meta, entity_id_column, label_generating_column, time_column, \"prediction_problems.json\")\n",
    "\n",
    "    nl_descrips = trane.generate_nl_description(\n",
    "        probs, table_meta, entity_id_column, label_generating_column, time_column, trane.ConstantIntegerCutoffTimes(0))\n",
    "    return probs, nl_descrips"
   ]
  },
  {
   "cell_type": "markdown",
   "metadata": {},
   "source": [
    "# Taxi Data\n",
    "Below, is the code to generate prediction problems and natural language descriptions from the taxi dataset."
   ]
  },
  {
   "cell_type": "code",
   "execution_count": 20,
   "metadata": {},
   "outputs": [
    {
     "name": "stdout",
     "output_type": "stream",
     "text": [
      "['For each id, predict the first passenger_count, after pickup_datetime 0.', 'For each id, predict the first passenger_count, with id greater than 0, after pickup_datetime 0.', 'For each id, predict the first passenger_count, with id equal to 0, after pickup_datetime 0.', 'For each id, predict the first passenger_count, with id not equal to 0, after pickup_datetime 0.', 'For each id, predict the first passenger_count, with id less than 0, after pickup_datetime 0.', 'For each id, predict the first passenger_count is greater than 0, after pickup_datetime 0.', 'For each id, predict the first passenger_count is greater than 0, with id greater than 0, after pickup_datetime 0.', 'For each id, predict the first passenger_count is greater than 0, with id equal to 0, after pickup_datetime 0.', 'For each id, predict the first passenger_count is greater than 0, with id not equal to 0, after pickup_datetime 0.', 'For each id, predict the first passenger_count is greater than 0, with id less than 0, after pickup_datetime 0.']\n"
     ]
    }
   ],
   "source": [
    "entity_id_column = 'id'\n",
    "label_generating_column = 'passenger_count'\n",
    "time_column = 'pickup_datetime'\n",
    "filter_column = 'id'\n",
    "table_meta = taxi_table_meta\n",
    "probs, nl_descrips = generate_probs_and_nl(entity_id_column, label_generating_column,\n",
    "                     time_column, table_meta, filter_column)\n",
    "print(nl_descrips)"
   ]
  },
  {
   "cell_type": "markdown",
   "metadata": {},
   "source": [
    "# Yelp Data\n",
    "Below, is the code to generate prediction problems and natural language descriptions from the yelp dataset."
   ]
  },
  {
   "cell_type": "code",
   "execution_count": 21,
   "metadata": {},
   "outputs": [
    {
     "name": "stdout",
     "output_type": "stream",
     "text": [
      "['For each user_id, predict the first stars, after date 0.', 'For each user_id, predict the first stars, with user_id greater than 0, after date 0.', 'For each user_id, predict the first stars, with user_id equal to 0, after date 0.', 'For each user_id, predict the first stars, with user_id not equal to 0, after date 0.', 'For each user_id, predict the first stars, with user_id less than 0, after date 0.', 'For each user_id, predict the first stars is greater than 0, after date 0.', 'For each user_id, predict the first stars is greater than 0, with user_id greater than 0, after date 0.', 'For each user_id, predict the first stars is greater than 0, with user_id equal to 0, after date 0.', 'For each user_id, predict the first stars is greater than 0, with user_id not equal to 0, after date 0.', 'For each user_id, predict the first stars is greater than 0, with user_id less than 0, after date 0.']\n"
     ]
    }
   ],
   "source": [
    "entity_id_column = 'user_id'\n",
    "label_generating_column = 'stars'\n",
    "time_column = 'date'\n",
    "filter_column = 'user_id'\n",
    "table_meta = yelp_table_meta\n",
    "probs, nl_descrips = generate_probs_and_nl(entity_id_column, label_generating_column,\n",
    "                     time_column, table_meta, filter_column)\n",
    "print(nl_descrips)"
   ]
  },
  {
   "cell_type": "markdown",
   "metadata": {},
   "source": [
    "# Github Data\n",
    "Below, is the code to generate prediction problems and natural language descriptions from the github dataset."
   ]
  },
  {
   "cell_type": "code",
   "execution_count": 22,
   "metadata": {},
   "outputs": [
    {
     "name": "stdout",
     "output_type": "stream",
     "text": [
      "['For each actor, predict the first repo, after created_at 0.', 'For each actor, predict the first repo, with user_id greater than 0, after created_at 0.', 'For each actor, predict the first repo, with user_id equal to 0, after created_at 0.', 'For each actor, predict the first repo, with user_id not equal to 0, after created_at 0.', 'For each actor, predict the first repo, with user_id less than 0, after created_at 0.', 'For each actor, predict the first repo is greater than 0, after created_at 0.', 'For each actor, predict the first repo is greater than 0, with user_id greater than 0, after created_at 0.', 'For each actor, predict the first repo is greater than 0, with user_id equal to 0, after created_at 0.', 'For each actor, predict the first repo is greater than 0, with user_id not equal to 0, after created_at 0.', 'For each actor, predict the first repo is greater than 0, with user_id less than 0, after created_at 0.']\n"
     ]
    }
   ],
   "source": [
    "entity_id_column = 'actor'\n",
    "label_generating_column = 'repo'\n",
    "time_column = 'created_at'\n",
    "filter_column = 'user_id'\n",
    "table_meta = github_table_meta\n",
    "probs, nl_descrips = generate_probs_and_nl(entity_id_column, label_generating_column,\n",
    "                     time_column, table_meta, filter_column)\n",
    "print(nl_descrips)"
   ]
  },
  {
   "cell_type": "code",
   "execution_count": null,
   "metadata": {},
   "outputs": [],
   "source": []
  }
 ],
 "metadata": {
  "kernelspec": {
   "display_name": "Python 3",
   "language": "python",
   "name": "python3"
  },
  "language_info": {
   "codemirror_mode": {
    "name": "ipython",
    "version": 3
   },
   "file_extension": ".py",
   "mimetype": "text/x-python",
   "name": "python",
   "nbconvert_exporter": "python",
   "pygments_lexer": "ipython3",
   "version": "3.6.1"
  }
 },
 "nbformat": 4,
 "nbformat_minor": 2
}
